{
 "cells": [
  {
   "cell_type": "markdown",
   "metadata": {},
   "source": [
    "# IVCSD Housing Support Form Data Analysis\n",
    "\n",
    "Welcome to the IVCSD Housing Support Form Data Analysis notebook. In this notebook, we will be automatically analyzing the data provided by IVCSD. All graphs generated will be saved as a picture to the `output` folder. Please run the `setup` code cell first. Then for each analysis you want, you can simply run the corresponding code block under each heading. If you do not see the custom theme, run it again to refresh inline styles."
   ]
  },
  {
   "cell_type": "markdown",
   "metadata": {},
   "source": [
    "## Get the Data\n",
    "\n",
    "### Support Form Data\n",
    "\n",
    "Please contact your supervisor for access to the form. You can insert it as a `.csv` into the `data` folder."
   ]
  },
  {
   "cell_type": "markdown",
   "metadata": {},
   "source": [
    "## Setup"
   ]
  },
  {
   "cell_type": "code",
   "execution_count": null,
   "metadata": {},
   "outputs": [],
   "source": [
    "import numpy as np\n",
    "import pandas as pd\n",
    "import matplotlib.pyplot as plt\n",
    "from aquarel import load_theme\n",
    "\n",
    "from wordcloud import WordCloud\n",
    "from nltk.corpus import stopwords\n",
    "\n",
    "YEAR=2025\n",
    "\n",
    "DEFINE_THEME = \"arctic_light\"\n",
    "theme = load_theme(DEFINE_THEME)\n",
    "\n",
    "nltk.download('stopwords')\n",
    "\n",
    "dataForm = pd.read_csv(\"data/tracker.csv\")\n",
    "dataForm = dataForm.set_index(\"Assigned Case #\")\n",
    "dataForm[\"Inquiry Submitted On\"] = pd.to_datetime(dataForm[\"Inquiry Submitted On\"], format=\"%m/%d/%Y\")\n",
    "dataForm = dataForm[dataForm[\"Inquiry Submitted On\"].dt.year == YEAR]\n",
    "\n",
    "# %matplotlib inline"
   ]
  },
  {
   "cell_type": "markdown",
   "metadata": {},
   "source": [
    "## Monthly Requests"
   ]
  },
  {
   "cell_type": "code",
   "execution_count": null,
   "metadata": {},
   "outputs": [],
   "source": [
    "%matplotlib inline\n",
    "\n",
    "fig, ax = plt.subplots(figsize=(22, 8))\n",
    "\n",
    "_x = pd.date_range(start=pd.to_datetime(f\"{YEAR}-01-01\"), end=pd.to_datetime(f\"{YEAR}-12-31\"), freq=\"ME\")\n",
    "_y = []\n",
    "\n",
    "for m in _x:\n",
    "    dataInMonth = dataForm[dataForm[\"Inquiry Submitted On\"].dt.month == m.month]\n",
    "    _y.append(dataInMonth[\"Inquiry Submitted On\"].count())\n",
    "\n",
    "labels = _x.strftime(\"%b\")\n",
    "\n",
    "ax.plot(labels, _y)\n",
    "ax.set_title(f\"Number of Requests by Month for {YEAR}\")\n",
    "ax.set_ylabel(\"Number of Requests\")\n",
    "ax.set_xlabel(\"Month\")\n",
    "\n",
    "theme.apply()\n",
    "\n",
    "fig.savefig(\"output/monthly_requests.png\", facecolor=fig.get_facecolor())"
   ]
  },
  {
   "cell_type": "markdown",
   "metadata": {},
   "source": [
    "## Requestor Type"
   ]
  },
  {
   "cell_type": "code",
   "execution_count": null,
   "metadata": {},
   "outputs": [],
   "source": [
    "%matplotlib inline\n",
    "\n",
    "fig, ax = plt.subplots(figsize=(12, 10))\n",
    "\n",
    "roles = dataForm[\"Your Role\"].value_counts()\n",
    "\n",
    "roles.rename(\"Type of Requestors\", inplace=True)\n",
    "roles.plot(kind=\"pie\", ax=ax, autopct='%1.1f%%', startangle=90, legend=False)\n",
    "\n",
    "theme.apply()\n",
    "\n",
    "fig.savefig(\"output/requestor_types.png\", facecolor=fig.get_facecolor())"
   ]
  },
  {
   "cell_type": "markdown",
   "metadata": {},
   "source": [
    "## Prefered Language"
   ]
  },
  {
   "cell_type": "code",
   "execution_count": null,
   "metadata": {},
   "outputs": [],
   "source": [
    "%matplotlib inline\n",
    "\n",
    "fig, ax = plt.subplots(figsize=(12, 10))\n",
    "\n",
    "language = dataForm[\"Preferred language of communication\"].value_counts()\n",
    "\n",
    "language.rename(\"Preferred Language\", inplace=True)\n",
    "language.plot(kind=\"pie\", ax=ax, autopct='%1.1f%%', startangle=90, legend=False)\n",
    "\n",
    "theme.apply()\n",
    "\n",
    "fig.savefig(\"output/language_preference.png\", facecolor=fig.get_facecolor())"
   ]
  },
  {
   "cell_type": "markdown",
   "metadata": {},
   "source": [
    "## Source of Information"
   ]
  },
  {
   "cell_type": "code",
   "execution_count": null,
   "metadata": {},
   "outputs": [],
   "source": [
    "%matplotlib inline\n",
    "\n",
    "fig, ax = plt.subplots(figsize=(12, 10))\n",
    "\n",
    "source = dataForm[\"How Did You Hear About Our Mediation Services? \"]\n",
    "source = source.str.lower()\n",
    "source = source.str.replace(\" \", \"\")\n",
    "source = source.str.split(\"\\n\")\n",
    "source = source.explode()\n",
    "\n",
    "source = source.value_counts()\n",
    "\n",
    "source.rename(\"How did you Hear about Us?\", inplace=True)\n",
    "source.plot(kind=\"pie\", ax=ax, autopct='%1.1f%%', startangle=90, legend=False)\n",
    "\n",
    "theme.apply()\n",
    "\n",
    "fig.savefig(\"output/source.png\", facecolor=fig.get_facecolor())"
   ]
  },
  {
   "cell_type": "markdown",
   "metadata": {},
   "source": [
    "## Requested Support"
   ]
  },
  {
   "cell_type": "code",
   "execution_count": null,
   "metadata": {},
   "outputs": [],
   "source": [
    "%matplotlib inline\n",
    "\n",
    "fig, ax = plt.subplots(figsize=(12, 10))\n",
    "\n",
    "requestedSupport = dataForm[\"How can we best support you?\"]\n",
    "\n",
    "requestedSupport = requestedSupport.str.lower()\n",
    "requestedSupport = requestedSupport.str.split(\"\\n\")\n",
    "requestedSupport = requestedSupport.explode()\n",
    "\n",
    "requestedSupport = requestedSupport.value_counts()\n",
    "\n",
    "requestedSupport.rename(\"What kind of Support do you Need?\", inplace=True)\n",
    "requestedSupport.plot(kind=\"barh\", ax=ax)\n",
    "\n",
    "theme.apply()\n",
    "\n",
    "fig.savefig(\"output/requested_support.png\", facecolor=fig.get_facecolor())"
   ]
  },
  {
   "cell_type": "markdown",
   "metadata": {},
   "source": [
    "## Category of Issue"
   ]
  },
  {
   "cell_type": "code",
   "execution_count": null,
   "metadata": {},
   "outputs": [],
   "source": [
    "%matplotlib inline\n",
    "\n",
    "fig, ax = plt.subplots(figsize=(12, 10))\n",
    "\n",
    "issue = dataForm[\"Nature of Concern\"]\n",
    "\n",
    "\n",
    "issue = issue.str.lower()\n",
    "issue = issue.str.split(\"\\n\")\n",
    "issue = issue.explode()\n",
    "\n",
    "otherText = \"\"\n",
    "for i in issue:\n",
    "    if \":\" not in str(i):\n",
    "        issue.loc[issue == i] = \"other\"\n",
    "        otherText += str(i) + \" \"\n",
    "\n",
    "issue = issue.value_counts()\n",
    "\n",
    "issue.rename(\"What kind of Support do you Need?\", inplace=True)\n",
    "issue.plot(kind=\"pie\", ax=ax, autopct='%1.1f%%', startangle=90, legend=False)\n",
    "\n",
    "theme.apply()\n",
    "\n",
    "otherCloud = WordCloud(stopwords=stopwords.words('english')).generate(otherText)\n",
    "otherCloud.to_file(\"output/issue_category_wordcloud.png\")\n",
    "\n",
    "fig.savefig(\"output/issue_category.png\", facecolor=fig.get_facecolor())\n",
    "\n",
    "\n"
   ]
  },
  {
   "cell_type": "markdown",
   "metadata": {},
   "source": [
    "## Concerns Word Cloud"
   ]
  },
  {
   "cell_type": "code",
   "execution_count": null,
   "metadata": {},
   "outputs": [],
   "source": [
    "fig, ax = plt.subplots(figsize=(12, 10))\n",
    "\n",
    "concern = dataForm[[\"Other (Please specify):\", \"Please describe your concern\"]]\n",
    "\n",
    "concern = concern.apply(lambda x: \" \".join(x.dropna().astype(str)),\n",
    "                        axis=1)\n",
    "\n",
    "text = \"\"\n",
    "for i in concern:\n",
    "    text += str(i) + \" \"\n",
    "\n",
    "concernCloud = WordCloud(stopwords=stopwords.words('english')).generate(text)\n",
    "concernCloud.to_file(\"output/concern_wordcloud.png\")"
   ]
  },
  {
   "cell_type": "markdown",
   "metadata": {},
   "source": [
    "## Urgency"
   ]
  },
  {
   "cell_type": "code",
   "execution_count": null,
   "metadata": {},
   "outputs": [],
   "source": [
    "%matplotlib inline\n",
    "\n",
    "fig, ax = plt.subplots(figsize=(12, 10))\n",
    "\n",
    "urgency = dataForm[\"How urgent is your situation\"].dropna()\n",
    "urgency = urgency.str.split(\":\")\n",
    "urgency = urgency.to_list()\n",
    "\n",
    "urgency = [i[0] for i in urgency]\n",
    "urgency = pd.Series(urgency)\n",
    "\n",
    "urgency = urgency.value_counts()\n",
    "urgency.plot(kind=\"bar\", ax=ax)\n",
    "\n",
    "ax.set_title(\"How Urgent is your Situtation?\")\n",
    "ax.set_xlabel(\"Urgency\")\n",
    "ax.set_ylabel(\"Count\")\n",
    "\n",
    "theme.apply()\n",
    "\n",
    "fig.savefig(\"output/urgency.png\", facecolor=fig.get_facecolor())"
   ]
  },
  {
   "cell_type": "markdown",
   "metadata": {},
   "source": [
    "## Communication with Other Party (and their Role)"
   ]
  },
  {
   "cell_type": "code",
   "execution_count": null,
   "metadata": {},
   "outputs": [],
   "source": [
    "%matplotlib inline\n",
    "\n",
    "fig, ax = plt.subplots(figsize=(12, 10))\n",
    "\n",
    "otherCommunication = dataForm[\"Have you already communicated with the other party?\"].dropna()\n",
    "\n",
    "otherCommunication = otherCommunication.str.lower()\n",
    "otherCommunication = otherCommunication.str.replace(\"\\\"\", \"\")\n",
    "otherCommunication = otherCommunication.str.split(\", \")\n",
    "otherCommunication = otherCommunication.explode()\n",
    "\n",
    "otherCommunication = otherCommunication.value_counts()\n",
    "\n",
    "otherCommunication.drop(\"yes\", inplace=True)\n",
    "\n",
    "otherCommunication.rename(\"\", inplace=True)\n",
    "otherCommunication.plot(kind=\"pie\", ax=ax, autopct='%1.1f%%', startangle=90, legend=False)\n",
    "\n",
    "ax.set_title(\"Did you communicate with the other party?\")\n",
    "\n",
    "theme.apply()\n",
    "\n",
    "fig.savefig(\"output/other_party_communication.png\", facecolor=fig.get_facecolor())\n",
    "\n",
    "fig, ax = plt.subplots(figsize=(12, 10))\n",
    "\n",
    "otherPartyRole = dataForm[\"Their Role\"].dropna()\n",
    "otherPartyRole = otherPartyRole.value_counts()\n",
    "\n",
    "otherPartyRole.rename(index={\"Property Owner/Manager/Landlord\": \"Landlord et. al.\"}, inplace=True)\n",
    "otherPartyRole.rename(\"\", inplace=True)\n",
    "otherPartyRole.plot(kind=\"bar\", ax=ax)\n",
    "\n",
    "ax.set_title(\"Other Party's Role\")\n",
    "\n",
    "theme.apply()\n",
    "\n",
    "fig.savefig(\"output/other_party_role.png\", facecolor=fig.get_facecolor())\n",
    "\n"
   ]
  },
  {
   "cell_type": "code",
   "execution_count": null,
   "metadata": {},
   "outputs": [],
   "source": []
  },
  {
   "cell_type": "markdown",
   "metadata": {},
   "source": [
    "## Response from Inquirer"
   ]
  },
  {
   "cell_type": "code",
   "execution_count": null,
   "metadata": {},
   "outputs": [],
   "source": [
    "%matplotlib inline\n",
    "\n",
    "fig, ax = plt.subplots(figsize=(12, 10))\n",
    "\n",
    "response = dataForm[\"Response from inquirer \\n\"].dropna()\n",
    "\n",
    "response = response.str.lower()\n",
    "response = response.str[0]\n",
    "\n",
    "response = response.value_counts() \n",
    "response.rename(\"Did the requestor respond?\", inplace=True)\n",
    "response.plot(kind=\"pie\", ax=ax, autopct='%1.1f%%', startangle=90, legend=False)\n",
    "\n",
    "theme.apply()\n",
    "\n",
    "fig.savefig(\"output/requestor_responded.png\", facecolor=fig.get_facecolor())"
   ]
  },
  {
   "cell_type": "markdown",
   "metadata": {},
   "source": [
    "## Mediation Occurrence"
   ]
  },
  {
   "cell_type": "code",
   "execution_count": null,
   "metadata": {},
   "outputs": [],
   "source": [
    "%matplotlib inline\n",
    "\n",
    "fig, ax = plt.subplots(figsize=(12, 10))\n",
    "\n",
    "mediation = dataForm[\"Mediation Occurrence (Y/N)\"].dropna()\n",
    "\n",
    "mediation = mediation.str.lower()\n",
    "\n",
    "mediation = mediation.value_counts() \n",
    "mediation.rename(\"Did mediation happen?\", inplace=True)\n",
    "mediation.plot(kind=\"pie\", ax=ax, autopct='%1.1f%%', startangle=90, legend=False)\n",
    "\n",
    "theme.apply()\n",
    "\n",
    "fig.savefig(\"output/mediation_happened.png\", facecolor=fig.get_facecolor())"
   ]
  },
  {
   "cell_type": "markdown",
   "metadata": {},
   "source": [
    "## Number of Followups"
   ]
  },
  {
   "cell_type": "code",
   "execution_count": null,
   "metadata": {},
   "outputs": [],
   "source": [
    "%matplotlib inline\n",
    "\n",
    "fig, ax = plt.subplots(figsize=(12, 10))\n",
    "\n",
    "followups = dataForm[\"# of Follow Ups Completed\"].dropna().astype(int)\n",
    "\n",
    "followups = followups.apply(lambda x: \"4+\" if x >= 4 else x)\n",
    "\n",
    "followups = followups.value_counts()\n",
    "\n",
    "followups = pd.DataFrame({\"label\": followups.index, \"count\": followups.values})\n",
    "followups.set_index(\"label\", inplace=True)\n",
    "followups = followups.sort_index()\n",
    "\n",
    "followups.plot(kind=\"bar\", ax=ax, legend=False)\n",
    "ax.set_title(\"How many followups per case?\")\n",
    "\n",
    "theme.apply()\n",
    "\n",
    "fig.savefig(\"output/followups.png\", facecolor=fig.get_facecolor())"
   ]
  },
  {
   "cell_type": "markdown",
   "metadata": {},
   "source": [
    "## Legal Aid Provided"
   ]
  },
  {
   "cell_type": "code",
   "execution_count": null,
   "metadata": {},
   "outputs": [],
   "source": [
    "%matplotlib inline\n",
    "\n",
    "fig, ax = plt.subplots(figsize=(12, 10))\n",
    "\n",
    "legalAid = dataForm[\"Legal Advice Provided\\n\"].dropna()\n",
    "\n",
    "legalAid = legalAid.str.lower()\n",
    "\n",
    "for i in legalAid:\n",
    "    if str(i)[0] != \"n\":\n",
    "        legalAid.loc[legalAid == i] = \"yes\"\n",
    "    else:\n",
    "        legalAid.loc[legalAid == i] = \"no\"\n",
    "\n",
    "legalAid = legalAid.value_counts() \n",
    "legalAid\n",
    "legalAid.rename(\"Was legal aid provided?\", inplace=True)\n",
    "legalAid.plot(kind=\"pie\", ax=ax, autopct='%1.1f%%', startangle=90, legend=False)\n",
    "\n",
    "theme.apply()\n",
    "\n",
    "fig.savefig(\"output/legaladvice.png\", facecolor=fig.get_facecolor())"
   ]
  },
  {
   "cell_type": "code",
   "execution_count": null,
   "metadata": {},
   "outputs": [],
   "source": [
    "fig, ax = plt.subplots(figsize=(12, 10))\n",
    "\n",
    "legalType = dataForm[[\"Legal Issue Type\\n\"]]\n",
    "\n",
    "legalType = legalType.apply(lambda x: \" \".join(x.dropna().astype(str)),\n",
    "                        axis=1)\n",
    "\n",
    "legalType\n",
    "\n",
    "text = \"\"\n",
    "for i in legalType:\n",
    "    text += str(i) + \" \"\n",
    "\n",
    "legalType = WordCloud(stopwords=stopwords.words('english')).generate(text)\n",
    "legalType.to_file(\"output/legal_type_wordcloud.png\")"
   ]
  },
  {
   "cell_type": "markdown",
   "metadata": {},
   "source": [
    "## Issues Bought to Mediation"
   ]
  },
  {
   "cell_type": "code",
   "execution_count": null,
   "metadata": {},
   "outputs": [],
   "source": [
    "%matplotlib inline\n",
    "\n",
    "fig, ax = plt.subplots(figsize=(12, 10))\n",
    "\n",
    "iToM = dataForm[[\"Nature of Concern\", \"Mediation Occurrence (Y/N)\"]].dropna()\n",
    "\n",
    "iToM = iToM[iToM[\"Mediation Occurrence (Y/N)\"].str.lower() == \"y\"]\n",
    "\n",
    "iToM = iToM.value_counts()\n",
    "\n",
    "iToM.rename(\"Issues to Mediation\", inplace=True)\n",
    "iToM.plot(kind=\"bar\", ax=ax)\n",
    "\n",
    "theme.apply()\n",
    "\n",
    "fig.savefig(\"output/issues_to_mediation.png\", facecolor=fig.get_facecolor())"
   ]
  },
  {
   "cell_type": "code",
   "execution_count": null,
   "metadata": {},
   "outputs": [],
   "source": []
  }
 ],
 "metadata": {
  "kernelspec": {
   "display_name": ".venv",
   "language": "python",
   "name": "python3"
  },
  "language_info": {
   "codemirror_mode": {
    "name": "ipython",
    "version": 3
   },
   "file_extension": ".py",
   "mimetype": "text/x-python",
   "name": "python",
   "nbconvert_exporter": "python",
   "pygments_lexer": "ipython3",
   "version": "3.13.2"
  }
 },
 "nbformat": 4,
 "nbformat_minor": 2
}
