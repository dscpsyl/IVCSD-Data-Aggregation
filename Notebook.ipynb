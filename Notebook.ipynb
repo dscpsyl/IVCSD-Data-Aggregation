{
 "cells": [
  {
   "cell_type": "markdown",
   "metadata": {},
   "source": [
    "# IVCSD Vending Machine Data Analysis\n",
    "\n",
    "Welcome to the IVCSD Vending Machine Data Analysis notebook. In this notebook, we will be automatically analyzing the vending machine data provided by IVCSD. All graphs generated will be saved as a picture to the `output` folder. Please run the `setup` code cell first. Then for each analysis you want, you can simply run the corresponding code block under each heading. If you do not see the custom theme, run it again to refresh inline styles."
   ]
  },
  {
   "cell_type": "markdown",
   "metadata": {},
   "source": [
    "## Get the Data\n",
    "1. Login to [IQ Tech Portal](https://iqtechportal.com/)\n",
    "\n",
    "### Transaction Report\n",
    "1. Go to `Reports > Transaction Report`\n",
    "2. Select the Date Range that you want to apply to the report \n",
    "3. Click on `View Report`\n",
    "4. Click on the **Double Down Arrow** icon to the left of the `View Report` button\n",
    "5. Check `User Limit Response`\n",
    "6. On the top right corner, select `Export` and download as `CSV`\n",
    "\n",
    "### Restock Report\n",
    "1. Go to `Reports > Restock Summary Report`\n",
    "2. Select the Date Range that you want to apply to the report \n",
    "3. Click on `View Report`\n",
    "4. On the top right corner, select `Export` and download as `CSV`\n",
    "\n",
    "## Import the Data\n",
    "1. Put both CSV files into the `data` folder of this project\n",
    "2. Make sure they have the file names `TransactionReport.csv` and `RestockSummaryReport.csv` respectively"
   ]
  },
  {
   "cell_type": "markdown",
   "metadata": {},
   "source": [
    "## Setup\n",
    "\n",
    "Please run the following code cell to setup the project as necessary. **!!!THIS CELL NEEDS TO RAN AT THE START EVERY TIME THIS CODE IS EXECUTED!!!**\n",
    "\n",
    "It will produce two `pandas.Dataframe` objects: `tDF` and `rDF` for the transaction report and restock report respectively. We will also extract the start date and end date of the data from the reports.\n",
    "\n",
    "### Options\n",
    "\n",
    "There are 4 options that you can change in the code cell below:\n",
    "```\n",
    "TRANSACTION_HEADER_ROWS\n",
    "TRANSACTION_FOOTER_ROWS\n",
    "RESTOCK_HEADER_ROWS\n",
    "RESTOCK_FOOTER_ROWS\n",
    "```\n",
    "These specify the number of rows to skip at the top and bottom of the CSV files. The defaults are set to the values that I found to work for the data that I have. If you have different data, you might need to adjust these values. These rows are skipped simply because they do not contain the raw data that we are looking for. Basically, anything above the headers and below the last data entry needs to be skipped."
   ]
  },
  {
   "cell_type": "code",
   "execution_count": 38,
   "metadata": {},
   "outputs": [],
   "source": [
    "import pandas as pd\n",
    "import numpy as np\n",
    "import csv\n",
    "from datetime import datetime as dt\n",
    "import matplotlib.pyplot as plt\n",
    "from pathlib import Path\n",
    "import collections as col\n",
    "from aquarel import load_theme\n",
    "\n",
    "\n",
    "TRANSACTION_HEADER_ROWS = 5\n",
    "TRANSACTION_FOOTER_ROWS = 2\n",
    "RESTOCK_HEADER_ROWS = 3\n",
    "RESTOCK_FOOTER_ROWS = 0\n",
    "\n",
    "#* Get and load the data files into memory\n",
    "transactionCSV = Path(\"data/TransactionReport.csv\")\n",
    "restockCSV = Path(\"data/RestockSummaryReport.csv\")\n",
    "\n",
    "TRANSACTION_FROM_DATE = None\n",
    "TRANSACTION_TO_DATE = None\n",
    "RESTOCK_FROM_DATE = None\n",
    "RESTOCK_TO_DATE = None\n",
    "\n",
    "TITLE_FONT_DICT = {'fontname': 'Sans',\n",
    "        'color':  'black',\n",
    "        'weight': 'heavy',\n",
    "        'size': 24,\n",
    "        }\n",
    "\n",
    "LABEL_FONT_DICT = {'fontname': 'Sans',\n",
    "        'color':  'black',\n",
    "        'weight': 'bold',\n",
    "        'size': 16,\n",
    "        }\n",
    "\n",
    "tDF = None\n",
    "rDF = None\n",
    "if transactionCSV.is_file():\n",
    "    with open(transactionCSV, 'r') as csvfile:\n",
    "        tReader = csv.reader(csvfile)\n",
    "        \n",
    "        TRANSACTION_FROM_DATE = dt.strptime(next(tReader)[1], '%m/%d/%Y')\n",
    "        TRANSACTION_TO_DATE = dt.strptime(next(tReader)[1], '%m/%d/%Y')\n",
    "        \n",
    "        tDF = pd.read_csv(transactionCSV, skiprows=TRANSACTION_HEADER_ROWS, skipfooter=TRANSACTION_FOOTER_ROWS, engine='python')\n",
    "\n",
    "if restockCSV.is_file():\n",
    "    with open(restockCSV, 'r') as csvfile:\n",
    "        rReader = csv.reader(csvfile)\n",
    "        \n",
    "        RESTOCK_FROM_DATE = dt.strptime(next(rReader)[1], '%m/%d/%Y')\n",
    "        RESTOCK_TO_DATE = dt.strptime(next(rReader)[1], '%m/%d/%Y')\n",
    "        \n",
    "        rDF = pd.read_csv(restockCSV, skiprows=RESTOCK_HEADER_ROWS, skipfooter=RESTOCK_FOOTER_ROWS, engine='python')\n",
    "\n",
    "#* Helper functions defined below\n",
    "def addLabelsToBar(x,y):\n",
    "    for i in range(len(x)):\n",
    "        plt.text(i, y[i], y[i], ha = 'center', fontdict=LABEL_FONT_DICT)\n",
    "\n",
    "def charSlicer(a,start,end):\n",
    "    b = a.view((str,1)).reshape(len(a),-1)[:,start:end]\n",
    "    return np.frombuffer(b.tobytes(),dtype=(str,end-start))"
   ]
  },
  {
   "cell_type": "markdown",
   "metadata": {},
   "source": [
    "## Gender"
   ]
  },
  {
   "cell_type": "code",
   "execution_count": null,
   "metadata": {},
   "outputs": [],
   "source": [
    "%matplotlib inline\n",
    "theme = load_theme(\"arctic_light\")\n",
    "fig, ax = plt.subplots(figsize=(8, 8))\n",
    "\n",
    "data = tDF['enter gender']\n",
    "data = data.fillna(0).value_counts().to_dict()\n",
    "\n",
    "labelKey = { 0: \"No Response\",\n",
    "            1: \"Male\",\n",
    "            2: \"Female\",\n",
    "            3: \"Nonbinary\"\n",
    "            }\n",
    "\n",
    "labels = list(labelKey[k] for k in data.keys())\n",
    "data = list(data.values())\n",
    "\n",
    "ax.pie(data, labels=labels, autopct='%1.1f%%', startangle=140)\n",
    "ax.legend(title=\"Legend\")\n",
    "ax.set_title(\"Gender\", fontdict=TITLE_FONT_DICT)\n",
    "\n",
    "theme.apply()\n",
    "fig.savefig(\"output/gender.png\", facecolor=fig.get_facecolor())"
   ]
  },
  {
   "cell_type": "markdown",
   "metadata": {},
   "source": [
    "## Racial Demographic"
   ]
  },
  {
   "cell_type": "code",
   "execution_count": null,
   "metadata": {},
   "outputs": [],
   "source": [
    "%matplotlib inline\n",
    "theme = load_theme(\"arctic_light\")\n",
    "fig, ax = plt.subplots(figsize=(22, 8))\n",
    "\n",
    "data = tDF['race']\n",
    "data = data.fillna(0).value_counts().to_dict()\n",
    "data = col.OrderedDict(sorted(data.items()))\n",
    "\n",
    "labelKey = {0: \"No Response\",\n",
    "            1: \"American Indian/Alaska Native\",\n",
    "            2: \"Asian\",\n",
    "            3: \"African American/Black\",\n",
    "            4: \"Hispanic\",\n",
    "            5: \"Middle Eastern\",\n",
    "            6: \"Native Hawaiian/Pacific Islander\",\n",
    "            7: \"Caucasian/White\",\n",
    "            8: \"Other Race\"\n",
    "            }\n",
    "\n",
    "labels = [labelKey[k] for k in data.keys()]\n",
    "data = list(data.values())\n",
    "\n",
    "ax.bar(labels, data)\n",
    "addLabelsToBar(labels, data)\n",
    "ax.set_title(\"Racial Demographic\", fontdict=TITLE_FONT_DICT)\n",
    "ax.set_ylabel(\"Number of Users\")\n",
    "\n",
    "theme.apply()\n",
    "fig.savefig(\"output/racial.png\", facecolor=fig.get_facecolor())"
   ]
  },
  {
   "cell_type": "markdown",
   "metadata": {},
   "source": [
    "## Age"
   ]
  },
  {
   "cell_type": "code",
   "execution_count": null,
   "metadata": {},
   "outputs": [],
   "source": [
    "%matplotlib inline\n",
    "theme = load_theme(\"arctic_light\")\n",
    "fig, ax = plt.subplots(figsize=(18, 8))\n",
    "\n",
    "data = tDF[\"enter age\"]\n",
    "data = data.fillna(0)\n",
    "\n",
    "\n",
    "counts, bins, _ = plt.hist(data, bins=[0,1,18,25,35,45,65,data.max()])\n",
    "data = counts\n",
    "plt.cla()\n",
    "\n",
    "labelKey = {0: \"No Response\",\n",
    "            1: \"<18\",\n",
    "            18: \"18-24\",\n",
    "            25: \"25-34\",\n",
    "            35: \"35-44\",\n",
    "            45: \"45-64\",\n",
    "            65: \"65+\"\n",
    "            }\n",
    "\n",
    "labels = [labelKey[k] for k in bins[:-1]]\n",
    "\n",
    "ax.bar(labels, data)\n",
    "addLabelsToBar(labels, data)\n",
    "ax.set_title(\"Age Demographic\", fontdict=TITLE_FONT_DICT)\n",
    "ax.set_ylabel(\"Number of Users\")\n",
    "\n",
    "theme.apply()\n",
    "fig.savefig(\"output/age.png\", facecolor=fig.get_facecolor())"
   ]
  },
  {
   "cell_type": "markdown",
   "metadata": {},
   "source": [
    "## Zip Code\n",
    "\n",
    "There is no complete automated way of making this visualization yet. The following code cell will generate a CSV file that you can drag and drop onto [EasyMapMaker](https://www.easymapmaker.com/) to generate the map."
   ]
  },
  {
   "cell_type": "code",
   "execution_count": null,
   "metadata": {},
   "outputs": [],
   "source": [
    "data = tDF['enter zip code'].dropna().unique()\n",
    "data = np.asarray(data, dtype=str)\n",
    "data = charSlicer(data, 0, 5)\n",
    "\n",
    "data = pd.DataFrame(data, columns=['ZIP'])\n",
    "data.to_csv(\"output/zip.csv\", index=False)"
   ]
  },
  {
   "cell_type": "markdown",
   "metadata": {},
   "source": [
    "## User Retention"
   ]
  },
  {
   "cell_type": "code",
   "execution_count": null,
   "metadata": {},
   "outputs": [],
   "source": [
    "%matplotlib inline\n",
    "theme = load_theme(\"arctic_light\")\n",
    "fig, ax = plt.subplots(figsize=(16, 8))\n",
    "\n",
    "data = tDF[\"enter the # of times you have used this machine\"]\n",
    "data = data.fillna(-1)\n",
    "\n",
    "\n",
    "counts, bins, _ = plt.hist(data, bins=[-1,0,1,2,3,4,5,data.max()])\n",
    "data = counts\n",
    "plt.cla()\n",
    "\n",
    "labelKey = {-1: \"No Response\",\n",
    "            0: \"0\",\n",
    "            1: \"1\",\n",
    "            2: \"2\",\n",
    "            3: \"3\",\n",
    "            4: \"4\",\n",
    "            5: \"5+\"\n",
    "            }\n",
    "\n",
    "labels = [labelKey[k] for k in bins[:-1]]\n",
    "\n",
    "ax.bar(labels, data)\n",
    "addLabelsToBar(labels, data)\n",
    "ax.set_title(\"Number of Uses\", fontdict=TITLE_FONT_DICT)\n",
    "ax.set_ylabel(\"Number of Users\")\n",
    "\n",
    "theme.apply()\n",
    "fig.savefig(\"output/previous_usage.png\", facecolor=fig.get_facecolor())"
   ]
  },
  {
   "cell_type": "markdown",
   "metadata": {},
   "source": [
    "## Monthly Transactions"
   ]
  },
  {
   "cell_type": "code",
   "execution_count": null,
   "metadata": {},
   "outputs": [],
   "source": []
  },
  {
   "cell_type": "code",
   "execution_count": 49,
   "metadata": {},
   "outputs": [
    {
     "name": "stdout",
     "output_type": "stream",
     "text": [
      "0      01/15/2025 06:54 PM\n",
      "1      01/15/2025 10:41 AM\n",
      "2      01/14/2025 01:25 PM\n",
      "3      01/14/2025 01:24 PM\n",
      "4      01/09/2025 05:42 PM\n",
      "              ...         \n",
      "297    10/19/2024 06:36 PM\n",
      "298    10/17/2024 11:40 AM\n",
      "299    10/16/2024 09:27 PM\n",
      "300    10/16/2024 12:33 PM\n",
      "301    10/16/2024 11:48 AM\n",
      "Name: Date and Time, Length: 302, dtype: object\n"
     ]
    },
    {
     "data": {
      "image/png": "[encoded data removed]",
      "text/plain": [
       "<Figure size 2200x800 with 1 Axes>"
      ]
     },
     "metadata": {},
     "output_type": "display_data"
    }
   ],
   "source": [
    "%matplotlib inline\n",
    "theme = load_theme(\"arctic_light\")\n",
    "fig, ax = plt.subplots(figsize=(22, 8))\n",
    "\n",
    "data = tDF['Date and Time']\n",
    "print(data)\n",
    "\n",
    "\n",
    "\n",
    "ax.set_title(\"Number of Transactions by Month\", fontdict=TITLE_FONT_DICT)\n",
    "ax.set_ylabel(\"Number of Transactions\")\n",
    "ax.set_xlabel(\"Month-Year\")\n",
    "\n",
    "theme.apply()\n",
    "fig.savefig(\"output/monthly_transactions.png\", facecolor=fig.get_facecolor())"
   ]
  }
 ],
 "metadata": {
  "kernelspec": {
   "display_name": ".venv",
   "language": "python",
   "name": "python3"
  },
  "language_info": {
   "codemirror_mode": {
    "name": "ipython",
    "version": 3
   },
   "file_extension": ".py",
   "mimetype": "text/x-python",
   "name": "python",
   "nbconvert_exporter": "python",
   "pygments_lexer": "ipython3",
   "version": "3.13.0"
  }
 },
 "nbformat": 4,
 "nbformat_minor": 2
}
