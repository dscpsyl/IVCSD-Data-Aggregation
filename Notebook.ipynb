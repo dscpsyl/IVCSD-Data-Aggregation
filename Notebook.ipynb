{
 "cells": [
  {
   "cell_type": "markdown",
   "metadata": {},
   "source": [
    "# IVCSD Vending Machine Data Analysis\n",
    "\n",
    "Welcome to the IVCSD Vending Machine Data Analysis notebook. In this notebook, we will be automatically analyzing the vending machine data provided by IVCSD. "
   ]
  },
  {
   "cell_type": "markdown",
   "metadata": {},
   "source": [
    "## Get the Data\n",
    "1. Login to [IQ Tech Portal](https://iqtechportal.com/)\n",
    "\n",
    "### Transaction Report\n",
    "1. Go to `Reports > Transaction Report`\n",
    "2. Select the Date Range that you want to apply to the report \n",
    "3. Click on `View Report`\n",
    "4. Click on the **Double Down Arrow** icon to the left of the `View Report` button\n",
    "5. Check `User Limit Response`\n",
    "6. On the top right corner, select `Export` and download as `CSV`\n",
    "\n",
    "### Restock Report\n",
    "1. Go to `Reports > Restock Summary Report`\n",
    "2. Select the Date Range that you want to apply to the report \n",
    "3. Click on `View Report`\n",
    "4. On the top right corner, select `Export` and download as `CSV`\n",
    "\n",
    "## Import the Data\n",
    "1. Put both CSV files into the `data` folder of this project\n",
    "2. Make sure they have the file names `TransactionReport.csv` and `RestockSummaryReport.csv` respectively"
   ]
  }
 ],
 "metadata": {
  "language_info": {
   "name": "python"
  }
 },
 "nbformat": 4,
 "nbformat_minor": 2
}
