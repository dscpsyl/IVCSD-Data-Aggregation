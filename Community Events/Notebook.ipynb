{
 "cells": [
  {
   "cell_type": "markdown",
   "metadata": {},
   "source": [
    "# IVCSD Community Events Data Analysis\n",
    "\n",
    "Welcome to the IVCSD Community Events Data Analysis notebook. In this notebook, we will be automatically analyzing the data provided by IVCSD. All graphs generated will be saved as a picture to the `output` folder. Please run the `setup` code cell first. Then, for each analysis you want, you can simply run the corresponding code block under each heading. If you do not see the custom theme, run it again to refresh inline styles.\n",
    "\n",
    "However, for this analysis specifically, there are many manual imports of data, as these tools have already analyzed for you. You simply need to find the correct data and report it. As such, this notebook will simply note the major sites to gather data for reporting."
   ]
  },
  {
   "cell_type": "markdown",
   "metadata": {},
   "source": [
    "## Get the Data\n",
    "\n",
    "### Constant Contact\n",
    "\n",
    "Please contact your supervisor to gain access to Constant Contact. As of writing this notebook, all data collected here are manually entered and analyzed. Any data that is to be auto-analyzed will be included below.\n",
    "\n",
    "### Streamline\n",
    "\n",
    "Please contact your supervisor to gain access to Streamline. As of writing this notebook, most data collected here are manually entered and analyzed. Any data that is to be auto-analyzed will be included below.\n",
    "\n",
    "### Meta Business Suite\n",
    "\n",
    "Please contact your supervisor to gain access to Meta Business Suite. As of writing this notebook, most data collected here are manually entered and analyzed. Any data that is to be auto-analyzed will be included below.\n",
    "### Google Analytics\n",
    "\n",
    "Please contact your supervisor to gain access to Google Analytics. As of writing this notebook, most data collected here are manually entered and analyzed. Any data that is to be auto-analyzed will be included below."
   ]
  },
  {
   "cell_type": "markdown",
   "metadata": {},
   "source": [
    "## Setup"
   ]
  },
  {
   "cell_type": "code",
   "execution_count": null,
   "metadata": {},
   "outputs": [],
   "source": [
    "import numpy as np\n",
    "import pandas as pd\n",
    "import matplotlib.pyplot as plt\n",
    "from aquarel import load_theme\n",
    "\n",
    "YEAR = 2024\n",
    "\n",
    "DEFINE_THEME = \"arctic_light\"\n",
    "theme = load_theme(DEFINE_THEME)\n",
    "\n",
    "contactUsData = pd.read_csv(\"data/contact-us.csv\")\n",
    "contactUsData[\"Date\"] = pd.to_datetime(contactUsData[\"Date\"], format=\"%Y-%m-%d %H:%M:%S UTC\",errors=\"coerce\")\n",
    "\n",
    "\n",
    "contactUsData\n",
    "# %matplotlib inline"
   ]
  },
  {
   "cell_type": "markdown",
   "metadata": {},
   "source": [
    "## Streamline Total Number of Contact Us Submissions\n"
   ]
  },
  {
   "cell_type": "code",
   "execution_count": null,
   "metadata": {},
   "outputs": [],
   "source": [
    "%matplotlib inline\n",
    "\n",
    "relData = contactUsData[contactUsData[\"Date\"].dt.year == YEAR]\n",
    "\n",
    "len(relData)  # Check the number of rows for the specified year"
   ]
  },
  {
   "cell_type": "code",
   "execution_count": null,
   "metadata": {},
   "outputs": [],
   "source": []
  }
 ],
 "metadata": {
  "kernelspec": {
   "display_name": ".venv",
   "language": "python",
   "name": "python3"
  },
  "language_info": {
   "codemirror_mode": {
    "name": "ipython",
    "version": 3
   },
   "file_extension": ".py",
   "mimetype": "text/x-python",
   "name": "python",
   "nbconvert_exporter": "python",
   "pygments_lexer": "ipython3",
   "version": "3.13.2"
  }
 },
 "nbformat": 4,
 "nbformat_minor": 2
}
