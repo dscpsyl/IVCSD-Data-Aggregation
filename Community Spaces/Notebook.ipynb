{
 "cells": [
  {
   "cell_type": "markdown",
   "metadata": {},
   "source": [
    "# IVCSD Community Spaces Data Analysis\n",
    "\n",
    "Welcome to the IVCSD Community Spaces Data Analysis notebook. In this notebook, we will be automatically analyzing the data provided by IVCSD. All graphs generated will be saved as a picture to the `output` folder. Please run the `setup` code cell first. Then for each analysis you want, you can simply run the corresponding code block under each heading. If you do not see the custom theme, run it again to refresh inline styles."
   ]
  },
  {
   "cell_type": "markdown",
   "metadata": {},
   "source": [
    "## Get the Data\n",
    "\n",
    "### Calendar Data\n",
    "\n",
    "The calendar data can be directly exported from the widget on the [IVCSD website](https://islavistacsd.ca.gov/iv-community-calendar). Make sure to select the datetime range that you are interested in and to select the \"More Info\" plus the \"Minor Categories\" option for filtering later on.\n",
    "\n",
    "### Post Event Survey\n",
    "\n",
    "This can be downloaded as a spreadsheet from the Post Event Google Form. Please contact your supervisor for access to this form and its respective data.\n",
    "\n",
    "### Rental Fees\n",
    "\n",
    "This can be downloaded directly as a spreadsheet from the Google Drive folder for rental fees. Please contact your supervisor for access to this folder and its respective data."
   ]
  },
  {
   "cell_type": "markdown",
   "metadata": {},
   "source": [
    "## Setup"
   ]
  },
  {
   "cell_type": "code",
   "execution_count": 1,
   "metadata": {},
   "outputs": [],
   "source": [
    "import numpy as np\n",
    "import pandas as pd\n",
    "import matplotlib.pyplot as plt\n",
    "from aquarel import load_theme\n",
    "\n",
    "YEAR = 2024\n",
    "TOTAL_NUM_EVENTS_IN_PREVIOUS_1_YEAR = 1130\n",
    "TOTAL_NUM_EVENTS_IN_PREVIOUS_2_YEAR = 880\n",
    "\n",
    "DEFINE_THEME = \"arctic_light\"\n",
    "CALENDAR_ENCODING = 'Windows-1252'\n",
    "MIN_FILTER_SIZE = 15\n",
    "\n",
    "theme = load_theme(DEFINE_THEME)\n",
    "\n",
    "dataCalendar = pd.read_csv(\"data/Calendar.csv\", encoding=CALENDAR_ENCODING)\n",
    "\n",
    "for row in dataCalendar.iterrows():\n",
    "    if row[1]['Subject'].startswith('More Info:') or row[1]['Subject'].startswith(','):\n",
    "        dataCalendar = dataCalendar.drop(row[0])\n",
    "\n",
    "dataPostEvent = pd.read_csv(\"data/PostSurvey.csv\")\n",
    "dataPostEvent['Timestamp'] = pd.to_datetime(dataPostEvent['Timestamp'])\n",
    "dataPostEvent['Year'] = dataPostEvent['Timestamp'].dt.year\n",
    "dataPostEvent = dataPostEvent[dataPostEvent['Year'] == YEAR]\n",
    "\n",
    "dataFees = pd.read_csv(\"data/RentalFees.csv\")\n",
    "\n",
    "# %matplotlib inline"
   ]
  },
  {
   "cell_type": "markdown",
   "metadata": {},
   "source": [
    "# Community Center/Room/Other Space Usage Analysis"
   ]
  },
  {
   "cell_type": "markdown",
   "metadata": {},
   "source": [
    "## Number of Events by Month\n"
   ]
  },
  {
   "cell_type": "code",
   "execution_count": 2,
   "metadata": {
    "vscode": {
     "languageId": "javascript"
    }
   },
   "outputs": [],
   "source": [
    "%matplotlib inline\n",
    "dataCalendar['Start Date'] = pd.to_datetime(dataCalendar['Start Date'])\n",
    "dataCalendar['Month'] = dataCalendar['Start Date'].dt.month\n",
    "\n",
    "monthlyEvents = dataCalendar['Month'].value_counts().sort_index()\n",
    "\n",
    "theme.apply()\n",
    "fig, ax = plt.subplots(figsize=(10, 6))\n",
    "monthlyEvents.plot(kind='bar', ax=ax)\n",
    "ax.set_title('Number of Events by Month', fontsize=16)\n",
    "ax.set_xlabel('Month', fontsize=14)\n",
    "ax.set_ylabel('Number of Events', fontsize=14)\n",
    "ax.set_xticks(range(12))\n",
    "ax.set_xticklabels(['Jan', 'Feb', 'Mar', 'Apr', 'May', 'Jun', 'Jul', 'Aug', 'Sep', 'Oct', 'Nov', 'Dec'], rotation=45)\n",
    "theme.apply_transforms()\n",
    "\n",
    "fig.savefig(\"output/events_by_month.png\", facecolor=fig.get_facecolor())"
   ]
  },
  {
   "cell_type": "markdown",
   "metadata": {},
   "source": [
    "# Number of Events Between the Community Center and Room\n"
   ]
  },
  {
   "cell_type": "code",
   "execution_count": 3,
   "metadata": {},
   "outputs": [],
   "source": [
    "%matplotlib inline\n",
    "dataCalendar = dataCalendar.dropna(subset=['Location'])\n",
    "communityCenterCount = dataCalendar[dataCalendar['Location'].str.contains('Isla Vista Community Center')].count()\n",
    "communityRoomCount = dataCalendar[dataCalendar['Location'].str.contains('Isla Vista Community Room')].count()\n",
    "\n",
    "theme.apply()\n",
    "fig, ax = plt.subplots(figsize=(10, 6))\n",
    "ax.bar(['Community Center', 'Community Room'], [communityCenterCount['Location'], communityRoomCount['Location']])\n",
    "ax.set_title(f'Number of Events at Community Center vs Community Room in {YEAR}')\n",
    "ax.set_ylabel('Number of Events')\n",
    "ax.set_xlabel('Location')\n",
    "theme.apply_transforms()\n",
    "\n",
    "fig.savefig(\"output/events_between_center_room.png\", facecolor=fig.get_facecolor())"
   ]
  },
  {
   "cell_type": "markdown",
   "metadata": {},
   "source": [
    "## Breakdown of Events in Places Other than the Community Center and Room this Year\n"
   ]
  },
  {
   "cell_type": "code",
   "execution_count": 4,
   "metadata": {},
   "outputs": [],
   "source": [
    "%matplotlib inline\n",
    "locations = dataCalendar['Location'].value_counts()\n",
    "\n",
    "for loc in locations.index:\n",
    "    if loc == 'Isla Vista Community Center' or loc == 'Isla Vista Community Room' or locations[loc] < MIN_FILTER_SIZE:\n",
    "        locations = locations.drop(loc)\n",
    "\n",
    "theme.apply()\n",
    "fig, ax = plt.subplots(figsize=(10, 6))\n",
    "ax.barh(locations.index, locations)\n",
    "ax.set_xlabel('Number of Events')\n",
    "ax.set_ylabel('Location')\n",
    "ax.set_title(f'Number of Events at Each Location in {YEAR}')\n",
    "theme.apply_transforms()\n",
    "\n",
    "fig.savefig(\"output/events_per_location.png\", facecolor=fig.get_facecolor())"
   ]
  },
  {
   "cell_type": "markdown",
   "metadata": {},
   "source": [
    "## Breakdown of Types of Events this Year\n"
   ]
  },
  {
   "cell_type": "code",
   "execution_count": 5,
   "metadata": {},
   "outputs": [],
   "source": [
    "%matplotlib inline\n",
    "eventTypes = dataCalendar['Primary Category'].value_counts()\n",
    "\n",
    "for event in eventTypes.index:\n",
    "    if eventTypes[event] < MIN_FILTER_SIZE:\n",
    "        eventTypes = eventTypes.drop(event)\n",
    "\n",
    "theme.apply()\n",
    "fig, ax = plt.subplots(figsize=(10, 6))\n",
    "ax.barh(eventTypes.index, eventTypes)\n",
    "ax.set_title(f'Number of Each Event Type in {YEAR}')\n",
    "ax.set_xlabel('Number of Events')\n",
    "ax.set_ylabel('Event Type')\n",
    "theme.apply_transforms()\n",
    "\n",
    "fig.savefig(\"output/events_per_type.png\", facecolor=fig.get_facecolor())"
   ]
  },
  {
   "cell_type": "markdown",
   "metadata": {},
   "source": [
    "## Number of Events Between the Community Center and Room by Previous Year"
   ]
  },
  {
   "cell_type": "code",
   "execution_count": 6,
   "metadata": {},
   "outputs": [],
   "source": [
    "\n",
    "%matplotlib inline\n",
    "\n",
    "currentYearEventCount = dataCalendar.count().iloc[0]\n",
    "\n",
    "theme.apply()\n",
    "fig, ax = plt.subplots(figsize=(10, 6))\n",
    "ax.bar([f'{YEAR-2}', f'{YEAR-1}', f'{YEAR}'], [TOTAL_NUM_EVENTS_IN_PREVIOUS_2_YEAR, TOTAL_NUM_EVENTS_IN_PREVIOUS_1_YEAR, currentYearEventCount])\n",
    "ax.set_title('Total Events Over the Years')\n",
    "ax.set_ylabel('Number of Events')\n",
    "ax.set_xlabel('Year')\n",
    "theme.apply_transforms()\n",
    "\n",
    "fig.savefig(\"output/total_events_between_years.png\", facecolor=fig.get_facecolor())"
   ]
  },
  {
   "cell_type": "markdown",
   "metadata": {},
   "source": [
    "## Number of Events by Category and Location\n"
   ]
  },
  {
   "cell_type": "code",
   "execution_count": 7,
   "metadata": {},
   "outputs": [],
   "source": [
    "%matplotlib inline\n",
    "data = dataCalendar.copy()\n",
    "data['Location'] = data['Location'].str.replace('(?i).*Community Center.*', 'Isla Vista Community Center', regex=True)\n",
    "data['Location'] = data['Location'].str.replace('(?i).*Community Room.*', 'Isla Vista Community Room', regex=True)\n",
    "combinedData = data.groupby(['Location', 'Primary Category']).size().unstack(fill_value=0)\n",
    "\n",
    "theme.apply()\n",
    "fig, ax = plt.subplots(figsize=(16, 8))\n",
    "combinedData.plot(kind='barh', stacked=True, ax=ax)\n",
    "\n",
    "# Add labels and title\n",
    "ax.set_title('Total Number of Events by Location and Category', fontsize=16)\n",
    "ax.set_xlabel('Event Location', fontsize=14)\n",
    "ax.set_ylabel('Number of Events', fontsize=14)\n",
    "ax.legend(title='Category', bbox_to_anchor=(1.05, 1), loc='upper left')\n",
    "\n",
    "theme.apply_transforms()\n",
    "\n",
    "fig.savefig(\"output/total_events_per_category_per_location.png\", facecolor=fig.get_facecolor())"
   ]
  },
  {
   "cell_type": "markdown",
   "metadata": {},
   "source": [
    "## Distribution of Satisfaction Rating of the Center and Room\n"
   ]
  },
  {
   "cell_type": "code",
   "execution_count": 8,
   "metadata": {},
   "outputs": [],
   "source": [
    "%matplotlib inline\n",
    "\n",
    "centerData = dataPostEvent[dataPostEvent['Which Community Space did you use? '] == 'Community Center']\n",
    "roomData = dataPostEvent[dataPostEvent['Which Community Space did you use? '] == 'Community Room']\n",
    "\n",
    "centerData = centerData['How satisfied were you with the event space?'].fillna(0).astype(int).value_counts()\n",
    "roomData = roomData['How satisfied were you with the event space?'].fillna(0).astype(int).value_counts()\n",
    "\n",
    "centerGraph = {0: 0, 1: 0, 2: 0, 3: 0, 4: 0, 5: 0}\n",
    "roomGraph = {0: 0, 1: 0, 2: 0, 3: 0, 4: 0, 5: 0}\n",
    "\n",
    "for i in centerData.index:\n",
    "    centerGraph[i] = centerData[i]\n",
    "\n",
    "for i in roomData.index:\n",
    "    roomGraph[i] = roomData[i]\n",
    "\n",
    "theme.apply()\n",
    "fig, ax = plt.subplots(figsize=(10, 6))\n",
    "ax.plot(centerGraph.keys(), centerGraph.values(), label='Community Center')\n",
    "ax.fill_between(centerGraph.keys(), centerGraph.values(), alpha=0.3)\n",
    "\n",
    "ax.plot(roomGraph.keys(), roomGraph.values(), label='Community Room')\n",
    "ax.fill_between(roomGraph.keys(), roomGraph.values(), alpha=0.3)\n",
    "\n",
    "ax.set_title(f'Satisfaction with Event Space in {YEAR}')\n",
    "ax.set_xlabel('Satisfaction Level')\n",
    "ax.set_ylabel('Number of Responses')\n",
    "ax.set_ybound(0, max(centerData.max(), roomData.max())+10)\n",
    "theme.apply_transforms()\n",
    "\n",
    "\n",
    "fig.savefig(\"output/satisfaction_with_event_space.png\")"
   ]
  },
  {
   "cell_type": "markdown",
   "metadata": {},
   "source": [
    "## Distribution of Reservation Rating of the Center and Room\n"
   ]
  },
  {
   "cell_type": "code",
   "execution_count": 9,
   "metadata": {},
   "outputs": [],
   "source": [
    "%matplotlib inline\n",
    "\n",
    "centerData = dataPostEvent[dataPostEvent['Which Community Space did you use? '] == 'Community Center']\n",
    "roomData = dataPostEvent[dataPostEvent['Which Community Space did you use? '] == 'Community Room']\n",
    "\n",
    "centerData = centerData['How did you feel about the reservation process?'].fillna(0).astype(int).value_counts()\n",
    "roomData = roomData['How did you feel about the reservation process?'].fillna(0).astype(int).value_counts()\n",
    "\n",
    "centerGraph = {0: 0, 1: 0, 2: 0, 3: 0, 4: 0, 5: 0}\n",
    "roomGraph = {0: 0, 1: 0, 2: 0, 3: 0, 4: 0, 5: 0}\n",
    "\n",
    "for i in centerData.index:\n",
    "    centerGraph[i] = centerData[i]\n",
    "\n",
    "for i in roomData.index:\n",
    "    roomGraph[i] = roomData[i]\n",
    "\n",
    "theme.apply()\n",
    "fig, ax = plt.subplots(figsize=(10, 6))\n",
    "ax.plot(centerGraph.keys(), centerGraph.values(), label='Community Center')\n",
    "ax.fill_between(centerGraph.keys(), centerGraph.values(), alpha=0.3)\n",
    "\n",
    "ax.plot(roomGraph.keys(), roomGraph.values(), label='Community Room')\n",
    "ax.fill_between(roomGraph.keys(), roomGraph.values(), alpha=0.3)\n",
    "\n",
    "ax.set_title(f'Satisfaction with Space Reservation Process in {YEAR}')\n",
    "ax.set_xlabel('Satisfaction Level')\n",
    "ax.set_ylabel('Number of Responses')\n",
    "ax.set_ybound(0, max(centerData.max(), roomData.max())+10)\n",
    "theme.apply_transforms()\n",
    "\n",
    "\n",
    "fig.savefig(\"output/satisfaction_with_reservation_of_space.png\")"
   ]
  },
  {
   "cell_type": "markdown",
   "metadata": {},
   "source": [
    "## Demographic Distribution based on Survey Data"
   ]
  },
  {
   "cell_type": "code",
   "execution_count": 10,
   "metadata": {},
   "outputs": [],
   "source": [
    "%matplotlib inline\n",
    "\n",
    "data = pd.DataFrame(dataPostEvent['What were the demographics of your event?'].dropna().str.split(', ', expand=True).values.flatten()).dropna().value_counts()\n",
    "\n",
    "data.index = data.index.levels[-1].astype(str)\n",
    "\n",
    "\n",
    "theme.apply()\n",
    "fig, ax = plt.subplots(figsize = (10, 6))\n",
    "ax.barh(data.index, data.values)\n",
    "ax.set_title('Demographics of Events based on Post Survey Responses', fontsize = 16)\n",
    "ax.set_xlabel('Number of Events', fontsize = 14)\n",
    "ax.set_ylabel('Demographic', fontsize = 14)\n",
    "theme.apply_transforms()\n",
    "\n",
    "fig.savefig(\"output/total_events_per_category_per_location.png\", facecolor=fig.get_facecolor())"
   ]
  },
  {
   "cell_type": "markdown",
   "metadata": {},
   "source": [
    "## Number of Events by Start Time Between Weekdays and Weekends\n"
   ]
  },
  {
   "cell_type": "code",
   "execution_count": 11,
   "metadata": {},
   "outputs": [],
   "source": [
    "%matplotlib inline\n",
    "\n",
    "dataCalendar['Start Date'] = pd.to_datetime(dataCalendar['Start Date'])\n",
    "dataCalendar['Start Time'] = pd.to_datetime(dataCalendar['Start Time'], format='%I:%M %p').dt.time\n",
    "\n",
    "dataCalendar['Day Type'] = dataCalendar['Start Date'].dt.dayofweek.apply(lambda x: 'Weekend' if x >= 5 else 'Weekday')\n",
    "dataCalendar['Start Hour'] = pd.to_datetime(dataCalendar['Start Time'], format='%H:%M:%S').dt.hour\n",
    "\n",
    "\n",
    "timeCounts = dataCalendar.groupby(['Day Type', 'Start Hour']).size().unstack(fill_value=0)\n",
    "\n",
    "\n",
    "# Plot the data\n",
    "theme.apply()\n",
    "fig, ax = plt.subplots(figsize=(18, 8))\n",
    "timeCounts.T.plot(kind='line', ax=ax)\n",
    "ax.set_title(f'Number of Events by Start Times (Weekdays vs Weekends) in {YEAR}', fontsize=16)\n",
    "ax.set_xlabel('Start Time', fontsize=14)\n",
    "ax.set_ylabel('Number of Events', fontsize=14)\n",
    "\n",
    "ax.set_xticks(range(24))\n",
    "ax.set_xticklabels([f'{hour}:00' for hour in range(24)], rotation=45)\n",
    "theme.apply_transforms()\n",
    "\n",
    "fig.savefig(\"output/events_by_start_time_weekday_vs_weekend.png\", facecolor=fig.get_facecolor())"
   ]
  },
  {
   "cell_type": "markdown",
   "metadata": {},
   "source": [
    "## Number of Events by Duration Between Weekdays and Weekends"
   ]
  },
  {
   "cell_type": "code",
   "execution_count": 12,
   "metadata": {},
   "outputs": [],
   "source": [
    "%matplotlib inline\n",
    "dataCalendar['Duration (hours)'] = pd.to_timedelta(dataCalendar['Duration (hh:mm:ss)']).dt.total_seconds() / 3600\n",
    "\n",
    "\n",
    "bins = [0, 1, 2, 4, 8, 12, 24]\n",
    "labels = ['<1h', '1-2h', '2-4h', '4-8h', '8-12h', '12-24h']\n",
    "dataCalendar['Duration Range'] = pd.cut(dataCalendar['Duration (hours)'], bins=bins, labels=labels, right=False)\n",
    "\n",
    "durationCounts = dataCalendar.groupby(['Day Type', 'Duration Range'], observed=False).size().unstack(fill_value=0, )\n",
    "\n",
    "theme.apply()\n",
    "fig, ax = plt.subplots(figsize=(12, 6))\n",
    "durationCounts.T.plot(kind='bar', ax=ax)\n",
    "ax.set_title(f'Number of Events by Duration (Weekdays vs Weekends) in {YEAR}', fontsize=16)\n",
    "ax.set_xlabel('Duration Range', fontsize=14)\n",
    "ax.set_ylabel('Number of Events', fontsize=14)\n",
    "ax.legend(title='Day Type', bbox_to_anchor=(1.05, 1), loc='upper left')\n",
    "theme.apply_transforms()\n",
    "\n",
    "\n",
    "fig.savefig(\"output/events_by_duration_weekday_vs_weekend.png\", facecolor=fig.get_facecolor())"
   ]
  },
  {
   "cell_type": "markdown",
   "metadata": {},
   "source": [
    "## Average Length of Events Between Repeating and Single Events\n"
   ]
  },
  {
   "cell_type": "code",
   "execution_count": 13,
   "metadata": {},
   "outputs": [],
   "source": [
    "%matplotlib inline\n",
    "dataCalendar['Is Repeating'] = dataCalendar['Repeat Id'].apply(lambda x: 'Repeating' if x != 0 else 'Single')\n",
    "average_duration = dataCalendar.groupby('Is Repeating')['Duration (hours)'].mean()\n",
    "\n",
    "# Plot the data\n",
    "theme.apply()\n",
    "fig, ax = plt.subplots(figsize=(10, 6))\n",
    "average_duration.plot(kind='bar', ax=ax)\n",
    "ax.set_title('Average Length of Events Between Repeating vs Single Types', fontsize=16)\n",
    "ax.set_xlabel('Event Type', fontsize=14)\n",
    "ax.set_ylabel('Average Duration (hours)', fontsize=14)\n",
    "theme.apply_transforms()\n",
    "\n",
    "fig.savefig(\"output/average_length_repeating_vs_single.png\", facecolor=fig.get_facecolor())"
   ]
  },
  {
   "cell_type": "markdown",
   "metadata": {},
   "source": [
    "## Word Cloud and Sentiment Analysis of Survey Responses"
   ]
  },
  {
   "cell_type": "code",
   "execution_count": 63,
   "metadata": {},
   "outputs": [],
   "source": [
    "%matplotlib inline\n",
    "\n",
    "import emoji\n",
    "import string\n",
    "import nltk\n",
    "from nltk.corpus import stopwords\n",
    "from nltk.sentiment import SentimentIntensityAnalyzer\n",
    "from wordcloud import WordCloud\n",
    "\n",
    "nltk.download('vader_lexicon', quiet=True)\n",
    "sia = SentimentIntensityAnalyzer()\n",
    "\n",
    "badWords = set(stopwords.words('english'))\n",
    "badPunct = set(string.punctuation)\n",
    "\n",
    "feedbacks = dataPostEvent['Any other feedback, improvements, comments or concerns?'].dropna().to_numpy()\n",
    "sentiment_scores = sia.polarity_scores(' '.join(feedbacks))\n",
    "\n",
    "theme.apply()\n",
    "fig, ax = plt.subplots(figsize=(10, 6))\n",
    "ax.bar(['Positive', 'Neutral', 'Negative'], [sentiment_scores['pos'], sentiment_scores['neu'], sentiment_scores['neg']])\n",
    "ax.set_title(f'Sentiment Analysis of Feedback from Post Event Survey for {YEAR}', fontsize=16)\n",
    "ax.set_xlabel('Sentiment Type', fontsize=14)\n",
    "ax.set_ylabel('Confidence (%)', fontsize=14)\n",
    "ax.text(0, -0.15, f\"The overall sentiment is {\"positive\" if sentiment_scores['compound'] > 0 else \"negative\" if sentiment_scores['compound'] < 0 else \"neutral\"}.\", ha='left', va='center')\n",
    "theme.apply_transforms()\n",
    "\n",
    "tokens = ' '.join(feedbacks).split()\n",
    "\n",
    "def cleanToken(token):\n",
    "    token = emoji.replace_emoji(token, replace='')\n",
    "    token = token.lower()\n",
    "    token = ''.join(char for char in token if char not in badPunct)\n",
    "    \n",
    "    if token not in badWords:\n",
    "        return token\n",
    "    \n",
    "    return ''\n",
    "\n",
    "tokens = [cleanToken(token) for token in tokens if cleanToken(token)]\n",
    "\n",
    "wordcloud = WordCloud(width=800, height=400, background_color='white').generate(' '.join(tokens))\n",
    "\n",
    "wordcloud.to_file('output/feedback_wordcloud.png')\n",
    "fig.savefig(\"output/sentiment_analysis_of_feedback.png\", facecolor=fig.get_facecolor())"
   ]
  },
  {
   "cell_type": "markdown",
   "metadata": {},
   "source": [
    "# Community Center/Room Fee Analysis"
   ]
  },
  {
   "cell_type": "markdown",
   "metadata": {},
   "source": []
  }
 ],
 "metadata": {
  "kernelspec": {
   "display_name": ".venv",
   "language": "python",
   "name": "python3"
  },
  "language_info": {
   "codemirror_mode": {
    "name": "ipython",
    "version": 3
   },
   "file_extension": ".py",
   "mimetype": "text/x-python",
   "name": "python",
   "nbconvert_exporter": "python",
   "pygments_lexer": "ipython3",
   "version": "3.13.2"
  }
 },
 "nbformat": 4,
 "nbformat_minor": 2
}
